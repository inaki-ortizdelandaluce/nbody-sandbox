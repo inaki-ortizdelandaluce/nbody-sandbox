{
 "cells": [
  {
   "cell_type": "markdown",
   "metadata": {},
   "source": [
    "## Chaper 4 Accuracy and Performance of the Integration\n",
    "---"
   ]
  },
  {
   "cell_type": "markdown",
   "metadata": {},
   "source": [
    "### 4.1 Structuring the code"
   ]
  },
  {
   "cell_type": "code",
   "execution_count": 8,
   "metadata": {},
   "outputs": [],
   "source": [
    "%matplotlib inline\n",
    "import numpy as np\n",
    "import matplotlib.pyplot as plt\n",
    "import timeit"
   ]
  },
  {
   "cell_type": "code",
   "execution_count": 9,
   "metadata": {},
   "outputs": [],
   "source": [
    "def ode_two_body(x, t, params):\n",
    "    G = params['G']\n",
    "    masses = params['masses']\n",
    "    \n",
    "    r1 = x[0:3]\n",
    "    r2 = x[3:6]\n",
    "    r3 = np.linalg.norm(r1 - r2)**3\n",
    "    \n",
    "    dxdt = x * 0\n",
    "    \n",
    "    dxdt[0:3]  = x[6:9]\n",
    "    dxdt[3:6]  = x[9:12]\n",
    "    dxdt[6:9]  = -G * masses[0] * (r1 - r2) / r3\n",
    "    dxdt[9:12] = -G * masses[1] * (r2 - r1) / r3\n",
    "    \n",
    "    return dxdt"
   ]
  },
  {
   "cell_type": "code",
   "execution_count": 10,
   "metadata": {},
   "outputs": [],
   "source": [
    "def integrate_euler(x0, t0, tf, dt, params):\n",
    "    npts = int(np.floor((tf - t0) / dt)) + 1\n",
    "    x = x0\n",
    "\n",
    "    time = np.linspace(t0, t0 + dt * (npts - 1), npts)\n",
    "    state = np.zeros((npts, len(x0)))\n",
    "    state[0,:] = x\n",
    "                     \n",
    "    for count, t in enumerate(time[1:], 1):\n",
    "        dxdt = ode_two_body(x, t, params)\n",
    "        x = x + dxdt * dt\n",
    "        state[count,:] = x\n",
    "        \n",
    "    return time, state"
   ]
  },
  {
   "cell_type": "code",
   "execution_count": 17,
   "metadata": {},
   "outputs": [],
   "source": [
    "def init():\n",
    "    G = 1.0\n",
    "    masses = [1.0, 1.0]\n",
    "    params = {'G': G, 'masses': masses}\n",
    "\n",
    "    r1 = np.array([1, 0, 0])   # particle 1 initial position\n",
    "    r2 = np.array([-1, 0, 0])    # particle 2 initial position\n",
    "    v1 = np.array([0, 0.5, 0]) # particle 1 initial velocity\n",
    "    v2 = np.array([0, -0.5, 0])  # particle 2 initial vecolity\n",
    "    x0 = np.concatenate((r1, r2, v1, v2))\n",
    "\n",
    "    t0 = 0.0\n",
    "    tf = 100.0\n",
    "    dt = 0.0001\n",
    "    \n",
    "    return x0, t0, tf, dt, params"
   ]
  },
  {
   "cell_type": "code",
   "execution_count": 18,
   "metadata": {},
   "outputs": [],
   "source": [
    "def plot(state):\n",
    "    plt.plot(state[:,0], state[:,1],\"b-\")\n",
    "    plt.plot(state[:,3], state[:,4],\"g-\")\n",
    "    plt.xlabel('$x$')\n",
    "    plt.ylabel('$y$')\n",
    "    plt.axis('equal')\n",
    "    plt.show()"
   ]
  },
  {
   "cell_type": "code",
   "execution_count": 20,
   "metadata": {},
   "outputs": [
    {
     "name": "stdout",
     "output_type": "stream",
     "text": [
      "Executed in 18.256 seconds\n"
     ]
    },
    {
     "data": {
      "image/png": "[encoded data removed]",
      "text/plain": [
       "<Figure size 432x288 with 1 Axes>"
      ]
     },
     "metadata": {
      "needs_background": "light"
     },
     "output_type": "display_data"
    }
   ],
   "source": [
    "start = timeit.default_timer()\n",
    "x0, t0, tf, dt, params = init()\n",
    "time, state = integrate_euler(x0, t0, tf, dt, params)\n",
    "stop = timeit.default_timer()\n",
    "print('Executed in {:.5} seconds'.format(stop - start))\n",
    "plot(state)"
   ]
  },
  {
   "cell_type": "markdown",
   "metadata": {},
   "source": [
    "### 4.3 Checking the conservation laws"
   ]
  },
  {
   "cell_type": "code",
   "execution_count": 27,
   "metadata": {},
   "outputs": [],
   "source": [
    "def compute_energy(state, params):\n",
    "    G = params['G']\n",
    "    masses = params['masses']\n",
    "    \n",
    "    energy = state[:,0] * 0\n",
    "    \n",
    "    for count, x in enumerate(state):\n",
    "        energy[count] = 0.5 * masses[0] * np.linalg.norm(x[6:9])**2 + 0.5 * masses[1] * np.linalg.norm(x[9:12])**2 \\\n",
    "                        - G * masses[0] * masses[1] / np.linalg.norm(x[3:6] - x[0:3])\n",
    "    return energy"
   ]
  },
  {
   "cell_type": "code",
   "execution_count": 28,
   "metadata": {},
   "outputs": [],
   "source": [
    "energy = compute_energy(state, params)"
   ]
  },
  {
   "cell_type": "code",
   "execution_count": 39,
   "metadata": {},
   "outputs": [
    {
     "data": {
      "image/png": "[encoded data removed]",
      "text/plain": [
       "<Figure size 432x288 with 1 Axes>"
      ]
     },
     "metadata": {
      "needs_background": "light"
     },
     "output_type": "display_data"
    }
   ],
   "source": [
    "plt.semilogy(time, np.abs((energy - energy[0]) / energy[0]))\n",
    "plt.xlabel('t')\n",
    "plt.ylabel('$\\\\epsilon=|\\\\frac{E(t)-E_0}{E_0}|$')\n",
    "plt.show()\n"
   ]
  },
  {
   "cell_type": "code",
   "execution_count": 40,
   "metadata": {},
   "outputs": [],
   "source": [
    "def compute_angular_momentum(state, params):\n",
    "    G = params['G']\n",
    "    masses = params['masses']\n",
    "    \n",
    "    momentum = state[:,0] * 0\n",
    "    \n",
    "    for count, x in enumerate(state):\n",
    "        momentum[count] = np.linalg.norm(masses[0] * np.cross(x[0:3], x[6:9]) \\\n",
    "                                  + masses[1] * np.cross(x[3:6], x[9:12]))\n",
    "    return momentum    "
   ]
  },
  {
   "cell_type": "code",
   "execution_count": 41,
   "metadata": {},
   "outputs": [],
   "source": [
    "momentum = compute_angular_momentum(state, params)"
   ]
  },
  {
   "cell_type": "code",
   "execution_count": 42,
   "metadata": {},
   "outputs": [
    {
     "data": {
      "image/png": "[encoded data removed]",
      "text/plain": [
       "<Figure size 432x288 with 1 Axes>"
      ]
     },
     "metadata": {
      "needs_background": "light"
     },
     "output_type": "display_data"
    }
   ],
   "source": [
    "plt.semilogy(time, np.abs((momentum - momentum[0]) / momentum[0]))\n",
    "plt.xlabel('t')\n",
    "plt.ylabel('$\\\\epsilon=|\\\\frac{L(t)-L_0}{L_0}|$')\n",
    "plt.show()\n"
   ]
  }
 ],
 "metadata": {
  "kernelspec": {
   "display_name": "Python 3",
   "language": "python",
   "name": "python3"
  },
  "language_info": {
   "codemirror_mode": {
    "name": "ipython",
    "version": 3
   },
   "file_extension": ".py",
   "mimetype": "text/x-python",
   "name": "python",
   "nbconvert_exporter": "python",
   "pygments_lexer": "ipython3",
   "version": "3.8.5"
  }
 },
 "nbformat": 4,
 "nbformat_minor": 4
}
